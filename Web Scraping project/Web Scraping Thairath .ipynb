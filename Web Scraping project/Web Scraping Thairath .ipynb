{
 "cells": [
  {
   "cell_type": "code",
   "execution_count": 1,
   "metadata": {
    "scrolled": true
   },
   "outputs": [
    {
     "name": "stdout",
     "output_type": "stream",
     "text": [
      "Requirement already satisfied: selenium in c:\\users\\maywwr\\appdata\\local\\programs\\python\\python37-32\\lib\\site-packages (4.6.0)\n",
      "Requirement already satisfied: urllib3[socks]~=1.26 in c:\\users\\maywwr\\appdata\\local\\programs\\python\\python37-32\\lib\\site-packages (from selenium) (1.26.12)\n",
      "Requirement already satisfied: trio-websocket~=0.9 in c:\\users\\maywwr\\appdata\\local\\programs\\python\\python37-32\\lib\\site-packages (from selenium) (0.9.2)\n",
      "Requirement already satisfied: certifi>=2021.10.8 in c:\\users\\maywwr\\appdata\\local\\programs\\python\\python37-32\\lib\\site-packages (from selenium) (2022.9.24)\n",
      "Requirement already satisfied: trio~=0.17 in c:\\users\\maywwr\\appdata\\local\\programs\\python\\python37-32\\lib\\site-packages (from selenium) (0.22.0)\n",
      "Requirement already satisfied: cffi>=1.14 in c:\\users\\maywwr\\appdata\\local\\programs\\python\\python37-32\\lib\\site-packages (from trio~=0.17->selenium) (1.15.1)\n",
      "Requirement already satisfied: idna in c:\\users\\maywwr\\appdata\\local\\programs\\python\\python37-32\\lib\\site-packages (from trio~=0.17->selenium) (3.4)\n",
      "Requirement already satisfied: exceptiongroup>=1.0.0rc9 in c:\\users\\maywwr\\appdata\\local\\programs\\python\\python37-32\\lib\\site-packages (from trio~=0.17->selenium) (1.0.1)\n",
      "Requirement already satisfied: sniffio in c:\\users\\maywwr\\appdata\\local\\programs\\python\\python37-32\\lib\\site-packages (from trio~=0.17->selenium) (1.3.0)\n",
      "Requirement already satisfied: sortedcontainers in c:\\users\\maywwr\\appdata\\local\\programs\\python\\python37-32\\lib\\site-packages (from trio~=0.17->selenium) (2.4.0)\n",
      "Requirement already satisfied: attrs>=19.2.0 in c:\\users\\maywwr\\appdata\\local\\programs\\python\\python37-32\\lib\\site-packages (from trio~=0.17->selenium) (22.1.0)\n",
      "Requirement already satisfied: outcome in c:\\users\\maywwr\\appdata\\local\\programs\\python\\python37-32\\lib\\site-packages (from trio~=0.17->selenium) (1.2.0)\n",
      "Requirement already satisfied: async-generator>=1.9 in c:\\users\\maywwr\\appdata\\local\\programs\\python\\python37-32\\lib\\site-packages (from trio~=0.17->selenium) (1.10)\n",
      "Requirement already satisfied: wsproto>=0.14 in c:\\users\\maywwr\\appdata\\local\\programs\\python\\python37-32\\lib\\site-packages (from trio-websocket~=0.9->selenium) (1.2.0)\n",
      "Requirement already satisfied: PySocks!=1.5.7,<2.0,>=1.5.6 in c:\\users\\maywwr\\appdata\\local\\programs\\python\\python37-32\\lib\\site-packages (from urllib3[socks]~=1.26->selenium) (1.7.1)\n",
      "Requirement already satisfied: pycparser in c:\\users\\maywwr\\appdata\\local\\programs\\python\\python37-32\\lib\\site-packages (from cffi>=1.14->trio~=0.17->selenium) (2.21)\n",
      "Requirement already satisfied: h11<1,>=0.9.0 in c:\\users\\maywwr\\appdata\\local\\programs\\python\\python37-32\\lib\\site-packages (from wsproto>=0.14->trio-websocket~=0.9->selenium) (0.14.0)\n",
      "Requirement already satisfied: typing-extensions in c:\\users\\maywwr\\appdata\\local\\programs\\python\\python37-32\\lib\\site-packages (from h11<1,>=0.9.0->wsproto>=0.14->trio-websocket~=0.9->selenium) (4.4.0)\n"
     ]
    }
   ],
   "source": [
    "!pip install selenium"
   ]
  },
  {
   "cell_type": "code",
   "execution_count": null,
   "metadata": {},
   "outputs": [],
   "source": [
    "!pip install selenium"
   ]
  },
  {
   "cell_type": "code",
   "execution_count": 9,
   "metadata": {},
   "outputs": [],
   "source": [
    "import pandas as pd\n",
    "from selenium import webdriver\n",
    "from selenium.webdriver.common.keys import Keys\n",
    "import bs4\n",
    "import time"
   ]
  },
  {
   "cell_type": "markdown",
   "metadata": {},
   "source": [
    "# Selenium\n",
    "ใช้ Selenium เข้าสู่เว็บไซต์ thairath.co.th"
   ]
  },
  {
   "cell_type": "code",
   "execution_count": 10,
   "metadata": {},
   "outputs": [],
   "source": [
    "driver = webdriver.Chrome()\n",
    "driver.get('https://www.thairath.co.th/home')"
   ]
  },
  {
   "cell_type": "code",
   "execution_count": 11,
   "metadata": {},
   "outputs": [],
   "source": [
    "# คลิกเข้าสู้เว็บไซต์ไทยรัฐ\n",
    "search = driver.find_element(\"xpath\",'/html/body/div[2]/div/div/div[2]/a[2]')\n",
    "search.click()"
   ]
  },
  {
   "cell_type": "code",
   "execution_count": 12,
   "metadata": {},
   "outputs": [],
   "source": [
    "# คลิกปุ่มค้นหา\n",
    "search = driver.find_element(\"xpath\",'/html/body/div[2]/main/div/div[2]/div/div[1]/div[3]/div[2]/div[2]/button')\n",
    "search.click()"
   ]
  },
  {
   "cell_type": "code",
   "execution_count": 13,
   "metadata": {},
   "outputs": [],
   "source": [
    "# search คำว่า นักเรียนหลุดจากระบบ\n",
    "searcher = driver.find_element(\"xpath\",'/html/body/div[2]/main/div/div[2]/div/div[1]/div[3]/div[2]/div[2]/div/div/input')\n",
    "searcher.send_keys('นักเรียนหลุดจากระบบ')"
   ]
  },
  {
   "cell_type": "code",
   "execution_count": 14,
   "metadata": {},
   "outputs": [],
   "source": [
    "from selenium.webdriver.common.keys import Keys"
   ]
  },
  {
   "cell_type": "code",
   "execution_count": 15,
   "metadata": {},
   "outputs": [],
   "source": [
    "# ค้นหา\n",
    "searcher.send_keys(Keys.ENTER)"
   ]
  },
  {
   "cell_type": "code",
   "execution_count": 16,
   "metadata": {},
   "outputs": [],
   "source": [
    "driver.execute_script(\"document.body.style.zoom='100%'\")"
   ]
  },
  {
   "cell_type": "code",
   "execution_count": 27,
   "metadata": {},
   "outputs": [],
   "source": [
    "# คลิกปุ่มดูเพิ่มเติม 50 ครั้ง\n",
    "for i in range(50):\n",
    "    time.sleep(1)\n",
    "    next_button = driver.find_element(\"xpath\",'/html/body/div[2]/main/div/div[4]/div/div/div[1]/div[3]')\n",
    "    next_button.click()\n",
    "    time.sleep(1)"
   ]
  },
  {
   "cell_type": "markdown",
   "metadata": {},
   "source": [
    "# Scraping"
   ]
  },
  {
   "cell_type": "code",
   "execution_count": 28,
   "metadata": {},
   "outputs": [],
   "source": [
    "records = []"
   ]
  },
  {
   "cell_type": "code",
   "execution_count": 29,
   "metadata": {
    "scrolled": true
   },
   "outputs": [],
   "source": [
    "data = driver.page_source\n",
    "soup = bs4.BeautifulSoup(data)\n",
    "\n",
    "el = soup.find_all('div', class_='css-3douix e2foe9c4')\n",
    "\n",
    "for e in el:\n",
    "    title = e.find('h2', class_='css-11fy7ft efr6tej2').text.strip()\n",
    "    content = e.find('p').text\n",
    "    date = e.find('div', class_='css-1scjisa e2foe9c5').find('span').text\n",
    "    \n",
    "    records.append([title,content,date])\n",
    "        "
   ]
  },
  {
   "cell_type": "code",
   "execution_count": 30,
   "metadata": {},
   "outputs": [
    {
     "name": "stdout",
     "output_type": "stream",
     "text": [
      "จำนวนข่าว: 255 ข่าว\n"
     ]
    }
   ],
   "source": [
    "# จำนวนข่าว\n",
    "x = len(records)\n",
    "print(f'จำนวนข่าว: {x} ข่าว')"
   ]
  },
  {
   "cell_type": "code",
   "execution_count": 44,
   "metadata": {},
   "outputs": [
    {
     "data": {
      "text/html": [
       "<div>\n",
       "<style scoped>\n",
       "    .dataframe tbody tr th:only-of-type {\n",
       "        vertical-align: middle;\n",
       "    }\n",
       "\n",
       "    .dataframe tbody tr th {\n",
       "        vertical-align: top;\n",
       "    }\n",
       "\n",
       "    .dataframe thead th {\n",
       "        text-align: right;\n",
       "    }\n",
       "</style>\n",
       "<table border=\"1\" class=\"dataframe\">\n",
       "  <thead>\n",
       "    <tr style=\"text-align: right;\">\n",
       "      <th></th>\n",
       "      <th>title</th>\n",
       "      <th>content</th>\n",
       "      <th>date</th>\n",
       "    </tr>\n",
       "  </thead>\n",
       "  <tbody>\n",
       "    <tr>\n",
       "      <th>0</th>\n",
       "      <td>พบเด็ก กศน.ค้างท่อหลุดระบบนับแสนคน “วัลลพ” สั่...</td>\n",
       "      <td>น.ส.ตรีนุช เทียนทอง รมว.ศึกษาธิการ ได้มีนโยบาย...</td>\n",
       "      <td>8 พ.ย. 65</td>\n",
       "    </tr>\n",
       "    <tr>\n",
       "      <th>1</th>\n",
       "      <td>สิ้นปีศึกษา 66 นร.ออกกลางคันเป็นศูนย์ “ตรีนุช”...</td>\n",
       "      <td>เปิดภาคเรียนที่ 2/2565 นี้ ศธ.มุ่งเน้นให้ครูกร...</td>\n",
       "      <td>2 พ.ย. 65</td>\n",
       "    </tr>\n",
       "    <tr>\n",
       "      <th>2</th>\n",
       "      <td>ความยากจนข้ามรุ่น การศึกษาเหลื่อมล้ำ</td>\n",
       "      <td>“ความยากจนข้ามรุ่น” และ “ความเหลื่อมล้ำทางการศ...</td>\n",
       "      <td>1 พ.ย. 65</td>\n",
       "    </tr>\n",
       "    <tr>\n",
       "      <th>3</th>\n",
       "      <td>ร่วม MOU เดินหน้า \"ระบบหลักประกันความเสมอภาคทา...</td>\n",
       "      <td>ร่วม MOU เดินหน้า \"ระบบหลักประกันความเสมอภาคทา...</td>\n",
       "      <td>31 ต.ค. 65</td>\n",
       "    </tr>\n",
       "    <tr>\n",
       "      <th>4</th>\n",
       "      <td>แนะหยุดวงจรความยากจนข้ามรุ่น ด้วยระบบโอกาสการศ...</td>\n",
       "      <td>แนะหยุดวงจรความยากจนข้ามรุ่น ด้วยการพัฒนาระบบห...</td>\n",
       "      <td>21 ต.ค. 65</td>\n",
       "    </tr>\n",
       "    <tr>\n",
       "      <th>...</th>\n",
       "      <td>...</td>\n",
       "      <td>...</td>\n",
       "      <td>...</td>\n",
       "    </tr>\n",
       "    <tr>\n",
       "      <th>250</th>\n",
       "      <td>หวั่นพิษ ศก.ซ้ำเติม กสศ.รุกช่วยเด็กยากจน เสี่ย...</td>\n",
       "      <td>หวั่นพิษ ศก.ซ้ำ กสศ.รุกช่วยเด็กยากจน เสี่ยงหลุ...</td>\n",
       "      <td>5 มี.ค. 63</td>\n",
       "    </tr>\n",
       "    <tr>\n",
       "      <th>251</th>\n",
       "      <td>ปู่ย่าติดโควิด-19 จากฮอกไกโด ผวาระบาดในไทย</td>\n",
       "      <td>ไทยพบผู้ติดเชื้อไวรัสโควิด-19 เพิ่มขึ้นอีก 3 ร...</td>\n",
       "      <td>26 ก.พ. 63</td>\n",
       "    </tr>\n",
       "    <tr>\n",
       "      <th>252</th>\n",
       "      <td>“ทรัมป์” คุย “สี จิ้นผิง” สู้ไวรัส มั่นใจจีนชน...</td>\n",
       "      <td>ประธานาธิบดีสี จิ้นผิง ของจีน ยกหูโทรศัพท์คุยข...</td>\n",
       "      <td>7 ก.พ. 63</td>\n",
       "    </tr>\n",
       "    <tr>\n",
       "      <th>253</th>\n",
       "      <td>ร.ร.ดัง ต่อยอดเงินอุดหนุนรายหัว บริจาคให้ กสศ....</td>\n",
       "      <td>สาธิตเกษตร อินเตอร์ บุกเบิกต่อยอดเงินอุดหนุนรา...</td>\n",
       "      <td>3 ก.พ. 63</td>\n",
       "    </tr>\n",
       "    <tr>\n",
       "      <th>254</th>\n",
       "      <td>กสศ.จับมือ กยศ.บูรณาการ ลดปัญหาให้ทุนศึกษาซ้ำซ...</td>\n",
       "      <td>กสศ.จับมือ กยศ.บูรณาการฐานข้อมูล ลดปัญหาให้ทุน...</td>\n",
       "      <td>29 ม.ค. 63</td>\n",
       "    </tr>\n",
       "  </tbody>\n",
       "</table>\n",
       "<p>255 rows × 3 columns</p>\n",
       "</div>"
      ],
      "text/plain": [
       "                                                 title  \\\n",
       "0    พบเด็ก กศน.ค้างท่อหลุดระบบนับแสนคน “วัลลพ” สั่...   \n",
       "1    สิ้นปีศึกษา 66 นร.ออกกลางคันเป็นศูนย์ “ตรีนุช”...   \n",
       "2                 ความยากจนข้ามรุ่น การศึกษาเหลื่อมล้ำ   \n",
       "3    ร่วม MOU เดินหน้า \"ระบบหลักประกันความเสมอภาคทา...   \n",
       "4    แนะหยุดวงจรความยากจนข้ามรุ่น ด้วยระบบโอกาสการศ...   \n",
       "..                                                 ...   \n",
       "250  หวั่นพิษ ศก.ซ้ำเติม กสศ.รุกช่วยเด็กยากจน เสี่ย...   \n",
       "251         ปู่ย่าติดโควิด-19 จากฮอกไกโด ผวาระบาดในไทย   \n",
       "252  “ทรัมป์” คุย “สี จิ้นผิง” สู้ไวรัส มั่นใจจีนชน...   \n",
       "253  ร.ร.ดัง ต่อยอดเงินอุดหนุนรายหัว บริจาคให้ กสศ....   \n",
       "254  กสศ.จับมือ กยศ.บูรณาการ ลดปัญหาให้ทุนศึกษาซ้ำซ...   \n",
       "\n",
       "                                               content        date  \n",
       "0    น.ส.ตรีนุช เทียนทอง รมว.ศึกษาธิการ ได้มีนโยบาย...   8 พ.ย. 65  \n",
       "1    เปิดภาคเรียนที่ 2/2565 นี้ ศธ.มุ่งเน้นให้ครูกร...   2 พ.ย. 65  \n",
       "2    “ความยากจนข้ามรุ่น” และ “ความเหลื่อมล้ำทางการศ...   1 พ.ย. 65  \n",
       "3    ร่วม MOU เดินหน้า \"ระบบหลักประกันความเสมอภาคทา...  31 ต.ค. 65  \n",
       "4    แนะหยุดวงจรความยากจนข้ามรุ่น ด้วยการพัฒนาระบบห...  21 ต.ค. 65  \n",
       "..                                                 ...         ...  \n",
       "250  หวั่นพิษ ศก.ซ้ำ กสศ.รุกช่วยเด็กยากจน เสี่ยงหลุ...  5 มี.ค. 63  \n",
       "251  ไทยพบผู้ติดเชื้อไวรัสโควิด-19 เพิ่มขึ้นอีก 3 ร...  26 ก.พ. 63  \n",
       "252  ประธานาธิบดีสี จิ้นผิง ของจีน ยกหูโทรศัพท์คุยข...   7 ก.พ. 63  \n",
       "253  สาธิตเกษตร อินเตอร์ บุกเบิกต่อยอดเงินอุดหนุนรา...   3 ก.พ. 63  \n",
       "254  กสศ.จับมือ กยศ.บูรณาการฐานข้อมูล ลดปัญหาให้ทุน...  29 ม.ค. 63  \n",
       "\n",
       "[255 rows x 3 columns]"
      ]
     },
     "execution_count": 44,
     "metadata": {},
     "output_type": "execute_result"
    }
   ],
   "source": [
    "# Create Data Frame \n",
    "# Set Columns : title , content , date\n",
    "df = pd.DataFrame(records, columns=['title','content','date'])\n",
    "df"
   ]
  },
  {
   "cell_type": "code",
   "execution_count": 45,
   "metadata": {},
   "outputs": [
    {
     "data": {
      "text/html": [
       "<div>\n",
       "<style scoped>\n",
       "    .dataframe tbody tr th:only-of-type {\n",
       "        vertical-align: middle;\n",
       "    }\n",
       "\n",
       "    .dataframe tbody tr th {\n",
       "        vertical-align: top;\n",
       "    }\n",
       "\n",
       "    .dataframe thead th {\n",
       "        text-align: right;\n",
       "    }\n",
       "</style>\n",
       "<table border=\"1\" class=\"dataframe\">\n",
       "  <thead>\n",
       "    <tr style=\"text-align: right;\">\n",
       "      <th></th>\n",
       "      <th>title</th>\n",
       "      <th>content</th>\n",
       "      <th>date</th>\n",
       "    </tr>\n",
       "  </thead>\n",
       "  <tbody>\n",
       "    <tr>\n",
       "      <th>0</th>\n",
       "      <td>พบเด็ก กศน.ค้างท่อหลุดระบบนับแสนคน “วัลลพ” สั่...</td>\n",
       "      <td>น.ส.ตรีนุช เทียนทอง รมว.ศึกษาธิการ ได้มีนโยบาย...</td>\n",
       "      <td>8-11-2022</td>\n",
       "    </tr>\n",
       "    <tr>\n",
       "      <th>1</th>\n",
       "      <td>สิ้นปีศึกษา 66 นร.ออกกลางคันเป็นศูนย์ “ตรีนุช”...</td>\n",
       "      <td>เปิดภาคเรียนที่ 2/2565 นี้ ศธ.มุ่งเน้นให้ครูกร...</td>\n",
       "      <td>2-11-2022</td>\n",
       "    </tr>\n",
       "    <tr>\n",
       "      <th>2</th>\n",
       "      <td>ความยากจนข้ามรุ่น การศึกษาเหลื่อมล้ำ</td>\n",
       "      <td>“ความยากจนข้ามรุ่น” และ “ความเหลื่อมล้ำทางการศ...</td>\n",
       "      <td>1-11-2022</td>\n",
       "    </tr>\n",
       "    <tr>\n",
       "      <th>3</th>\n",
       "      <td>ร่วม MOU เดินหน้า \"ระบบหลักประกันความเสมอภาคทา...</td>\n",
       "      <td>ร่วม MOU เดินหน้า \"ระบบหลักประกันความเสมอภาคทา...</td>\n",
       "      <td>31-10-2022</td>\n",
       "    </tr>\n",
       "    <tr>\n",
       "      <th>4</th>\n",
       "      <td>แนะหยุดวงจรความยากจนข้ามรุ่น ด้วยระบบโอกาสการศ...</td>\n",
       "      <td>แนะหยุดวงจรความยากจนข้ามรุ่น ด้วยการพัฒนาระบบห...</td>\n",
       "      <td>21-10-2022</td>\n",
       "    </tr>\n",
       "    <tr>\n",
       "      <th>...</th>\n",
       "      <td>...</td>\n",
       "      <td>...</td>\n",
       "      <td>...</td>\n",
       "    </tr>\n",
       "    <tr>\n",
       "      <th>250</th>\n",
       "      <td>หวั่นพิษ ศก.ซ้ำเติม กสศ.รุกช่วยเด็กยากจน เสี่ย...</td>\n",
       "      <td>หวั่นพิษ ศก.ซ้ำ กสศ.รุกช่วยเด็กยากจน เสี่ยงหลุ...</td>\n",
       "      <td>5-03-2020</td>\n",
       "    </tr>\n",
       "    <tr>\n",
       "      <th>251</th>\n",
       "      <td>ปู่ย่าติดโควิด-19 จากฮอกไกโด ผวาระบาดในไทย</td>\n",
       "      <td>ไทยพบผู้ติดเชื้อไวรัสโควิด-19 เพิ่มขึ้นอีก 3 ร...</td>\n",
       "      <td>26-02-2020</td>\n",
       "    </tr>\n",
       "    <tr>\n",
       "      <th>252</th>\n",
       "      <td>“ทรัมป์” คุย “สี จิ้นผิง” สู้ไวรัส มั่นใจจีนชน...</td>\n",
       "      <td>ประธานาธิบดีสี จิ้นผิง ของจีน ยกหูโทรศัพท์คุยข...</td>\n",
       "      <td>7-02-2020</td>\n",
       "    </tr>\n",
       "    <tr>\n",
       "      <th>253</th>\n",
       "      <td>ร.ร.ดัง ต่อยอดเงินอุดหนุนรายหัว บริจาคให้ กสศ....</td>\n",
       "      <td>สาธิตเกษตร อินเตอร์ บุกเบิกต่อยอดเงินอุดหนุนรา...</td>\n",
       "      <td>3-02-2020</td>\n",
       "    </tr>\n",
       "    <tr>\n",
       "      <th>254</th>\n",
       "      <td>กสศ.จับมือ กยศ.บูรณาการ ลดปัญหาให้ทุนศึกษาซ้ำซ...</td>\n",
       "      <td>กสศ.จับมือ กยศ.บูรณาการฐานข้อมูล ลดปัญหาให้ทุน...</td>\n",
       "      <td>29-01-2020</td>\n",
       "    </tr>\n",
       "  </tbody>\n",
       "</table>\n",
       "<p>255 rows × 3 columns</p>\n",
       "</div>"
      ],
      "text/plain": [
       "                                                 title  \\\n",
       "0    พบเด็ก กศน.ค้างท่อหลุดระบบนับแสนคน “วัลลพ” สั่...   \n",
       "1    สิ้นปีศึกษา 66 นร.ออกกลางคันเป็นศูนย์ “ตรีนุช”...   \n",
       "2                 ความยากจนข้ามรุ่น การศึกษาเหลื่อมล้ำ   \n",
       "3    ร่วม MOU เดินหน้า \"ระบบหลักประกันความเสมอภาคทา...   \n",
       "4    แนะหยุดวงจรความยากจนข้ามรุ่น ด้วยระบบโอกาสการศ...   \n",
       "..                                                 ...   \n",
       "250  หวั่นพิษ ศก.ซ้ำเติม กสศ.รุกช่วยเด็กยากจน เสี่ย...   \n",
       "251         ปู่ย่าติดโควิด-19 จากฮอกไกโด ผวาระบาดในไทย   \n",
       "252  “ทรัมป์” คุย “สี จิ้นผิง” สู้ไวรัส มั่นใจจีนชน...   \n",
       "253  ร.ร.ดัง ต่อยอดเงินอุดหนุนรายหัว บริจาคให้ กสศ....   \n",
       "254  กสศ.จับมือ กยศ.บูรณาการ ลดปัญหาให้ทุนศึกษาซ้ำซ...   \n",
       "\n",
       "                                               content        date  \n",
       "0    น.ส.ตรีนุช เทียนทอง รมว.ศึกษาธิการ ได้มีนโยบาย...   8-11-2022  \n",
       "1    เปิดภาคเรียนที่ 2/2565 นี้ ศธ.มุ่งเน้นให้ครูกร...   2-11-2022  \n",
       "2    “ความยากจนข้ามรุ่น” และ “ความเหลื่อมล้ำทางการศ...   1-11-2022  \n",
       "3    ร่วม MOU เดินหน้า \"ระบบหลักประกันความเสมอภาคทา...  31-10-2022  \n",
       "4    แนะหยุดวงจรความยากจนข้ามรุ่น ด้วยการพัฒนาระบบห...  21-10-2022  \n",
       "..                                                 ...         ...  \n",
       "250  หวั่นพิษ ศก.ซ้ำ กสศ.รุกช่วยเด็กยากจน เสี่ยงหลุ...   5-03-2020  \n",
       "251  ไทยพบผู้ติดเชื้อไวรัสโควิด-19 เพิ่มขึ้นอีก 3 ร...  26-02-2020  \n",
       "252  ประธานาธิบดีสี จิ้นผิง ของจีน ยกหูโทรศัพท์คุยข...   7-02-2020  \n",
       "253  สาธิตเกษตร อินเตอร์ บุกเบิกต่อยอดเงินอุดหนุนรา...   3-02-2020  \n",
       "254  กสศ.จับมือ กยศ.บูรณาการฐานข้อมูล ลดปัญหาให้ทุน...  29-01-2020  \n",
       "\n",
       "[255 rows x 3 columns]"
      ]
     },
     "execution_count": 45,
     "metadata": {},
     "output_type": "execute_result"
    }
   ],
   "source": [
    "# Change string DATE to Number\n",
    "df['date'].replace({\n",
    "    ' ม.ค. ':'-01-',' ก.พ. ':'-02-',' มี.ค. ' :'-03-',' เม.ย. ':'-04-',' พ.ค. ':'-05-',' มิ.ย. ':'-06-',' ก.ค. ':'-07-',\n",
    "    ' ส.ค. ':'-08-',' ก.ย. ':'-09-',' ต.ค. ':'-10-',' พ.ย. ':'-11-',' ธ.ค. ': '-12-','65':'2022','64':'2021','63':'2020'\n",
    "    }, inplace=True , regex=True)\n",
    "df"
   ]
  },
  {
   "cell_type": "code",
   "execution_count": 46,
   "metadata": {},
   "outputs": [
    {
     "data": {
      "text/html": [
       "<div>\n",
       "<style scoped>\n",
       "    .dataframe tbody tr th:only-of-type {\n",
       "        vertical-align: middle;\n",
       "    }\n",
       "\n",
       "    .dataframe tbody tr th {\n",
       "        vertical-align: top;\n",
       "    }\n",
       "\n",
       "    .dataframe thead th {\n",
       "        text-align: right;\n",
       "    }\n",
       "</style>\n",
       "<table border=\"1\" class=\"dataframe\">\n",
       "  <thead>\n",
       "    <tr style=\"text-align: right;\">\n",
       "      <th></th>\n",
       "      <th>title</th>\n",
       "      <th>content</th>\n",
       "      <th>date</th>\n",
       "    </tr>\n",
       "  </thead>\n",
       "  <tbody>\n",
       "    <tr>\n",
       "      <th>0</th>\n",
       "      <td>พบเด็ก กศน.ค้างท่อหลุดระบบนับแสนคน “วัลลพ” สั่...</td>\n",
       "      <td>น.ส.ตรีนุช เทียนทอง รมว.ศึกษาธิการ ได้มีนโยบาย...</td>\n",
       "      <td>2022-08-11</td>\n",
       "    </tr>\n",
       "    <tr>\n",
       "      <th>1</th>\n",
       "      <td>สิ้นปีศึกษา 66 นร.ออกกลางคันเป็นศูนย์ “ตรีนุช”...</td>\n",
       "      <td>เปิดภาคเรียนที่ 2/2565 นี้ ศธ.มุ่งเน้นให้ครูกร...</td>\n",
       "      <td>2022-02-11</td>\n",
       "    </tr>\n",
       "    <tr>\n",
       "      <th>2</th>\n",
       "      <td>ความยากจนข้ามรุ่น การศึกษาเหลื่อมล้ำ</td>\n",
       "      <td>“ความยากจนข้ามรุ่น” และ “ความเหลื่อมล้ำทางการศ...</td>\n",
       "      <td>2022-01-11</td>\n",
       "    </tr>\n",
       "    <tr>\n",
       "      <th>3</th>\n",
       "      <td>ร่วม MOU เดินหน้า \"ระบบหลักประกันความเสมอภาคทา...</td>\n",
       "      <td>ร่วม MOU เดินหน้า \"ระบบหลักประกันความเสมอภาคทา...</td>\n",
       "      <td>2022-10-31</td>\n",
       "    </tr>\n",
       "    <tr>\n",
       "      <th>4</th>\n",
       "      <td>แนะหยุดวงจรความยากจนข้ามรุ่น ด้วยระบบโอกาสการศ...</td>\n",
       "      <td>แนะหยุดวงจรความยากจนข้ามรุ่น ด้วยการพัฒนาระบบห...</td>\n",
       "      <td>2022-10-21</td>\n",
       "    </tr>\n",
       "    <tr>\n",
       "      <th>...</th>\n",
       "      <td>...</td>\n",
       "      <td>...</td>\n",
       "      <td>...</td>\n",
       "    </tr>\n",
       "    <tr>\n",
       "      <th>250</th>\n",
       "      <td>หวั่นพิษ ศก.ซ้ำเติม กสศ.รุกช่วยเด็กยากจน เสี่ย...</td>\n",
       "      <td>หวั่นพิษ ศก.ซ้ำ กสศ.รุกช่วยเด็กยากจน เสี่ยงหลุ...</td>\n",
       "      <td>2020-05-03</td>\n",
       "    </tr>\n",
       "    <tr>\n",
       "      <th>251</th>\n",
       "      <td>ปู่ย่าติดโควิด-19 จากฮอกไกโด ผวาระบาดในไทย</td>\n",
       "      <td>ไทยพบผู้ติดเชื้อไวรัสโควิด-19 เพิ่มขึ้นอีก 3 ร...</td>\n",
       "      <td>2020-02-26</td>\n",
       "    </tr>\n",
       "    <tr>\n",
       "      <th>252</th>\n",
       "      <td>“ทรัมป์” คุย “สี จิ้นผิง” สู้ไวรัส มั่นใจจีนชน...</td>\n",
       "      <td>ประธานาธิบดีสี จิ้นผิง ของจีน ยกหูโทรศัพท์คุยข...</td>\n",
       "      <td>2020-07-02</td>\n",
       "    </tr>\n",
       "    <tr>\n",
       "      <th>253</th>\n",
       "      <td>ร.ร.ดัง ต่อยอดเงินอุดหนุนรายหัว บริจาคให้ กสศ....</td>\n",
       "      <td>สาธิตเกษตร อินเตอร์ บุกเบิกต่อยอดเงินอุดหนุนรา...</td>\n",
       "      <td>2020-03-02</td>\n",
       "    </tr>\n",
       "    <tr>\n",
       "      <th>254</th>\n",
       "      <td>กสศ.จับมือ กยศ.บูรณาการ ลดปัญหาให้ทุนศึกษาซ้ำซ...</td>\n",
       "      <td>กสศ.จับมือ กยศ.บูรณาการฐานข้อมูล ลดปัญหาให้ทุน...</td>\n",
       "      <td>2020-01-29</td>\n",
       "    </tr>\n",
       "  </tbody>\n",
       "</table>\n",
       "<p>255 rows × 3 columns</p>\n",
       "</div>"
      ],
      "text/plain": [
       "                                                 title  \\\n",
       "0    พบเด็ก กศน.ค้างท่อหลุดระบบนับแสนคน “วัลลพ” สั่...   \n",
       "1    สิ้นปีศึกษา 66 นร.ออกกลางคันเป็นศูนย์ “ตรีนุช”...   \n",
       "2                 ความยากจนข้ามรุ่น การศึกษาเหลื่อมล้ำ   \n",
       "3    ร่วม MOU เดินหน้า \"ระบบหลักประกันความเสมอภาคทา...   \n",
       "4    แนะหยุดวงจรความยากจนข้ามรุ่น ด้วยระบบโอกาสการศ...   \n",
       "..                                                 ...   \n",
       "250  หวั่นพิษ ศก.ซ้ำเติม กสศ.รุกช่วยเด็กยากจน เสี่ย...   \n",
       "251         ปู่ย่าติดโควิด-19 จากฮอกไกโด ผวาระบาดในไทย   \n",
       "252  “ทรัมป์” คุย “สี จิ้นผิง” สู้ไวรัส มั่นใจจีนชน...   \n",
       "253  ร.ร.ดัง ต่อยอดเงินอุดหนุนรายหัว บริจาคให้ กสศ....   \n",
       "254  กสศ.จับมือ กยศ.บูรณาการ ลดปัญหาให้ทุนศึกษาซ้ำซ...   \n",
       "\n",
       "                                               content       date  \n",
       "0    น.ส.ตรีนุช เทียนทอง รมว.ศึกษาธิการ ได้มีนโยบาย... 2022-08-11  \n",
       "1    เปิดภาคเรียนที่ 2/2565 นี้ ศธ.มุ่งเน้นให้ครูกร... 2022-02-11  \n",
       "2    “ความยากจนข้ามรุ่น” และ “ความเหลื่อมล้ำทางการศ... 2022-01-11  \n",
       "3    ร่วม MOU เดินหน้า \"ระบบหลักประกันความเสมอภาคทา... 2022-10-31  \n",
       "4    แนะหยุดวงจรความยากจนข้ามรุ่น ด้วยการพัฒนาระบบห... 2022-10-21  \n",
       "..                                                 ...        ...  \n",
       "250  หวั่นพิษ ศก.ซ้ำ กสศ.รุกช่วยเด็กยากจน เสี่ยงหลุ... 2020-05-03  \n",
       "251  ไทยพบผู้ติดเชื้อไวรัสโควิด-19 เพิ่มขึ้นอีก 3 ร... 2020-02-26  \n",
       "252  ประธานาธิบดีสี จิ้นผิง ของจีน ยกหูโทรศัพท์คุยข... 2020-07-02  \n",
       "253  สาธิตเกษตร อินเตอร์ บุกเบิกต่อยอดเงินอุดหนุนรา... 2020-03-02  \n",
       "254  กสศ.จับมือ กยศ.บูรณาการฐานข้อมูล ลดปัญหาให้ทุน... 2020-01-29  \n",
       "\n",
       "[255 rows x 3 columns]"
      ]
     },
     "execution_count": 46,
     "metadata": {},
     "output_type": "execute_result"
    }
   ],
   "source": [
    "# Change format, datatype to datetime\n",
    "df['date'] = pd.to_datetime(df['date'])\n",
    "df"
   ]
  },
  {
   "cell_type": "code",
   "execution_count": 34,
   "metadata": {},
   "outputs": [
    {
     "data": {
      "text/plain": [
       "title              object\n",
       "content            object\n",
       "date       datetime64[ns]\n",
       "dtype: object"
      ]
     },
     "execution_count": 34,
     "metadata": {},
     "output_type": "execute_result"
    }
   ],
   "source": [
    "# Check DataType \n",
    "df.dtypes"
   ]
  },
  {
   "cell_type": "markdown",
   "metadata": {},
   "source": [
    "### Save to CSV"
   ]
  },
  {
   "cell_type": "code",
   "execution_count": 35,
   "metadata": {},
   "outputs": [],
   "source": [
    "df.to_csv('News_Thairath_4.csv', index=False, encoding ='utf-8-sig')"
   ]
  },
  {
   "cell_type": "code",
   "execution_count": 47,
   "metadata": {},
   "outputs": [],
   "source": [
    "df['date'] = df['date'].dt.strftime('%Y-%m-%d %H:%M:%S')"
   ]
  },
  {
   "cell_type": "markdown",
   "metadata": {},
   "source": [
    "### or Save to json"
   ]
  },
  {
   "cell_type": "code",
   "execution_count": 48,
   "metadata": {},
   "outputs": [],
   "source": [
    "df = df.to_dict('records')"
   ]
  },
  {
   "cell_type": "code",
   "execution_count": 49,
   "metadata": {},
   "outputs": [],
   "source": [
    "import json\n",
    "with open('News_Thairath_4.json', 'w', encoding ='utf8') as json_file:\n",
    "    json.dump(df, json_file)"
   ]
  }
 ],
 "metadata": {
  "kernelspec": {
   "display_name": "DSI314",
   "language": "python",
   "name": "dsi314"
  },
  "language_info": {
   "codemirror_mode": {
    "name": "ipython",
    "version": 3
   },
   "file_extension": ".py",
   "mimetype": "text/x-python",
   "name": "python",
   "nbconvert_exporter": "python",
   "pygments_lexer": "ipython3",
   "version": "3.8.8"
  }
 },
 "nbformat": 4,
 "nbformat_minor": 4
}
